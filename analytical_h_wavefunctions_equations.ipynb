{
 "cells": [
  {
   "cell_type": "code",
   "execution_count": 1,
   "metadata": {},
   "outputs": [
    {
     "name": "stdout",
     "output_type": "stream",
     "text": [
      "Term 1: exp(-x**2/2)/pi**(1/4)\n",
      "Term 2: sqrt(2)*x*exp(-x**2/2)/pi**(1/4)\n",
      "Term 3: sqrt(2)*(4*x**2 - 2)*exp(-x**2/2)/(4*pi**(1/4))\n",
      "Term 4: sqrt(3)*(8*x**3 - 12*x)*exp(-x**2/2)/(12*pi**(1/4))\n",
      "Term 5: sqrt(6)*(16*x**4 - 48*x**2 + 12)*exp(-x**2/2)/(48*pi**(1/4))\n",
      "Term 6: sqrt(15)*(32*x**5 - 160*x**3 + 120*x)*exp(-x**2/2)/(240*pi**(1/4))\n",
      "Term 7: sqrt(5)*(64*x**6 - 480*x**4 + 720*x**2 - 120)*exp(-x**2/2)/(480*pi**(1/4))\n",
      "Term 8: sqrt(70)*(128*x**7 - 1344*x**5 + 3360*x**3 - 1680*x)*exp(-x**2/2)/(6720*pi**(1/4))\n"
     ]
    }
   ],
   "source": [
    "import sympy as sp\n",
    "\n",
    "\n",
    "def generate_terms_symbolic(max_n):\n",
    "    x = sp.symbols('x')\n",
    "    terms = []\n",
    "    for n in range(max_n):\n",
    "        prefactor = sp.sqrt(2**(n) * sp.factorial(n) * sp.sqrt(sp.pi))**-1\n",
    "        hermite = sp.hermite(n, x)\n",
    "        gaussian = sp.exp(-x**2 / 2)\n",
    "        term = prefactor * hermite * gaussian\n",
    "        terms.append(term)\n",
    "    return terms\n",
    "\n",
    "# Example usage:\n",
    "max_n = 8\n",
    "result = generate_terms_symbolic(max_n)\n",
    "for i, term in enumerate(result):\n",
    "    print(f\"Term {i+1}: {term}\")\n",
    "\n"
   ]
  },
  {
   "cell_type": "code",
   "execution_count": null,
   "metadata": {},
   "outputs": [],
   "source": []
  }
 ],
 "metadata": {
  "kernelspec": {
   "display_name": "Python 3",
   "language": "python",
   "name": "python3"
  },
  "language_info": {
   "codemirror_mode": {
    "name": "ipython",
    "version": 3
   },
   "file_extension": ".py",
   "mimetype": "text/x-python",
   "name": "python",
   "nbconvert_exporter": "python",
   "pygments_lexer": "ipython3",
   "version": "3.10.9"
  }
 },
 "nbformat": 4,
 "nbformat_minor": 2
}
