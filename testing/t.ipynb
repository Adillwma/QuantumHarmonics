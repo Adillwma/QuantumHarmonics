{
 "cells": [
  {
   "cell_type": "code",
   "execution_count": 38,
   "metadata": {},
   "outputs": [
    {
     "name": "stderr",
     "output_type": "stream",
     "text": [
      "c:\\Users\\Ada\\AppData\\Local\\Programs\\Python\\Python310\\lib\\site-packages\\numpy\\polynomial\\hermite.py:895: RuntimeWarning: overflow encountered in multiply\n",
      "  return c0 + c1*x2\n",
      "c:\\Users\\Ada\\AppData\\Local\\Programs\\Python\\Python310\\lib\\site-packages\\numpy\\polynomial\\hermite.py:894: RuntimeWarning: overflow encountered in multiply\n",
      "  c1 = tmp + c1*x2\n",
      "c:\\Users\\Ada\\AppData\\Local\\Programs\\Python\\Python310\\lib\\site-packages\\numpy\\polynomial\\hermite.py:893: RuntimeWarning: overflow encountered in multiply\n",
      "  c0 = c[-i] - c1*(2*(nd - 1))\n",
      "c:\\Users\\Ada\\AppData\\Local\\Programs\\Python\\Python310\\lib\\site-packages\\numpy\\polynomial\\hermite.py:895: RuntimeWarning: invalid value encountered in add\n",
      "  return c0 + c1*x2\n",
      "C:\\Users\\Ada\\AppData\\Local\\Temp\\ipykernel_22948\\387918129.py:14: RuntimeWarning: invalid value encountered in cast\n",
      "  term = np.array(term, dtype=np.float64)\n",
      "c:\\Users\\Ada\\AppData\\Local\\Programs\\Python\\Python310\\lib\\site-packages\\numpy\\polynomial\\hermite.py:894: RuntimeWarning: invalid value encountered in add\n",
      "  c1 = tmp + c1*x2\n",
      "c:\\Users\\Ada\\AppData\\Local\\Programs\\Python\\Python310\\lib\\site-packages\\numpy\\polynomial\\hermite.py:894: RuntimeWarning: overflow encountered in add\n",
      "  c1 = tmp + c1*x2\n"
     ]
    }
   ],
   "source": [
    "import numpy as np\n",
    "from mpmath import factorial\n",
    "\n",
    "def qho_analytical_e_vectors1(x, max_n, min_n=0):\n",
    "\n",
    "    wavefunctions = []\n",
    "    probability_densitys = []\n",
    "\n",
    "    for n in range(min_n, max_n):\n",
    "        prefactor = (1 / np.sqrt(2**n * factorial(n) * np.sqrt(np.pi)))\n",
    "        hermite = np.polynomial.hermite.Hermite([0]*n + [1])(x)  # Calculate the Hermite polynomial of order n\n",
    "        gaussian = np.exp(-x**2 / 2)  # Gaussian function\n",
    "        term = prefactor * hermite * gaussian  # Multiply Hermite polynomial by Gaussian\n",
    "        term = np.array(term, dtype=np.float64)\n",
    "        wavefunctions.append(term)\n",
    "        probability_densitys.append(term**2)\n",
    "\n",
    "    return wavefunctions, probability_densitys\n",
    "\n",
    "x = np.linspace(-5, 5, 1000)\n",
    "wavefunctions, probability_densitys = qho_analytical_e_vectors1(x, 1000)"
   ]
  },
  {
   "cell_type": "code",
   "execution_count": 47,
   "metadata": {},
   "outputs": [
    {
     "name": "stderr",
     "output_type": "stream",
     "text": [
      "c:\\Users\\Ada\\AppData\\Local\\Programs\\Python\\Python310\\lib\\site-packages\\numpy\\polynomial\\hermite.py:895: RuntimeWarning: overflow encountered in multiply\n",
      "  return c0 + c1*x2\n",
      "c:\\Users\\Ada\\AppData\\Local\\Programs\\Python\\Python310\\lib\\site-packages\\numpy\\polynomial\\hermite.py:894: RuntimeWarning: overflow encountered in multiply\n",
      "  c1 = tmp + c1*x2\n",
      "c:\\Users\\Ada\\AppData\\Local\\Programs\\Python\\Python310\\lib\\site-packages\\numpy\\polynomial\\hermite.py:893: RuntimeWarning: overflow encountered in multiply\n",
      "  c0 = c[-i] - c1*(2*(nd - 1))\n",
      "c:\\Users\\Ada\\AppData\\Local\\Programs\\Python\\Python310\\lib\\site-packages\\numpy\\polynomial\\hermite.py:895: RuntimeWarning: invalid value encountered in add\n",
      "  return c0 + c1*x2\n",
      "c:\\Users\\Ada\\AppData\\Local\\Programs\\Python\\Python310\\lib\\site-packages\\numpy\\polynomial\\hermite.py:894: RuntimeWarning: invalid value encountered in add\n",
      "  c1 = tmp + c1*x2\n",
      "c:\\Users\\Ada\\AppData\\Local\\Programs\\Python\\Python310\\lib\\site-packages\\numpy\\polynomial\\hermite.py:894: RuntimeWarning: overflow encountered in add\n",
      "  c1 = tmp + c1*x2\n"
     ]
    }
   ],
   "source": [
    "import numpy as np\n",
    "from mpmath import factorial\n",
    "\n",
    "def qho_analytical_e_vectors2(x, max_n, min_n=0):\n",
    "\n",
    "    wavefunctions = []\n",
    "    probability_densitys = []\n",
    "\n",
    "    for n in range(min_n, max_n):\n",
    "\n",
    "        if n <= 150:\n",
    "            prefactor = (1 / np.sqrt(2**n * np.math.factorial(n) * np.sqrt(np.pi)))\n",
    "        else:\n",
    "            prefactor = (1 / np.sqrt(2**n * factorial(n) * np.sqrt(np.pi)))\n",
    "            prefactor = np.array(prefactor, dtype=np.float64)\n",
    "\n",
    "        hermite = np.polynomial.hermite.Hermite([0]*n + [1])(x)  # Calculate the Hermite polynomial of order n\n",
    "        gaussian = np.exp(-x**2 / 2)  # Gaussian function\n",
    "        term = prefactor * hermite * gaussian  # Multiply Hermite polynomial by Gaussian\n",
    "        wavefunctions.append(term)\n",
    "        probability_densitys.append(term**2)\n",
    "\n",
    "    return wavefunctions, probability_densitys\n",
    "\n",
    "x = np.linspace(-5, 5, 1000)\n",
    "wavefunctions, probability_densitys = qho_analytical_e_vectors2(x, 1000)"
   ]
  },
  {
   "cell_type": "code",
   "execution_count": 49,
   "metadata": {},
   "outputs": [
    {
     "name": "stderr",
     "output_type": "stream",
     "text": [
      "C:\\Users\\Ada\\AppData\\Local\\Temp\\ipykernel_22948\\3374771442.py:19: RuntimeWarning: invalid value encountered in multiply\n",
      "  term = prefactor * np.array(hermite_values) * gaussian  # Multiply Hermite polynomial by Gaussian\n"
     ]
    }
   ],
   "source": [
    "import numpy as np\n",
    "from mpmath import factorial, hermite\n",
    "\n",
    "def qho_analytical_e_vectors3(x, max_n, min_n=0):\n",
    "\n",
    "    wavefunctions = []\n",
    "    probability_densitys = []\n",
    "\n",
    "    for n in range(min_n, max_n):\n",
    "\n",
    "        if n <= 150:\n",
    "            prefactor = (1 / np.sqrt(2**n * np.math.factorial(n) * np.sqrt(np.pi)))\n",
    "        else:\n",
    "            prefactor = (1 / np.sqrt(2**n * factorial(n) * np.sqrt(np.pi)))\n",
    "            prefactor = np.array(prefactor, dtype=np.float64)\n",
    "\n",
    "        hermite_values = [float(hermite(n, float(xi))) for xi in x]       \n",
    "        gaussian = np.exp(-x**2 / 2)  # Gaussian function\n",
    "        term = prefactor * np.array(hermite_values) * gaussian  # Multiply Hermite polynomial by Gaussian\n",
    "        wavefunctions.append(term)\n",
    "        probability_densitys.append(term**2)\n",
    "\n",
    "    return wavefunctions, probability_densitys\n",
    "\n",
    "x = np.linspace(-5, 5, 1000)\n",
    "wavefunctions, probability_densitys = qho_analytical_e_vectors3(x, 1000)"
   ]
  },
  {
   "cell_type": "code",
   "execution_count": 45,
   "metadata": {},
   "outputs": [
    {
     "ename": "OverflowError",
     "evalue": "int too large to convert to float",
     "output_type": "error",
     "traceback": [
      "\u001b[1;31m---------------------------------------------------------------------------\u001b[0m",
      "\u001b[1;31mOverflowError\u001b[0m                             Traceback (most recent call last)",
      "Cell \u001b[1;32mIn[45], line 21\u001b[0m\n\u001b[0;32m     18\u001b[0m     \u001b[38;5;28;01mreturn\u001b[39;00m wavefunctions, probability_densitys\n\u001b[0;32m     20\u001b[0m x \u001b[38;5;241m=\u001b[39m np\u001b[38;5;241m.\u001b[39mlinspace(\u001b[38;5;241m-\u001b[39m\u001b[38;5;241m5\u001b[39m, \u001b[38;5;241m5\u001b[39m, \u001b[38;5;241m1000\u001b[39m)\n\u001b[1;32m---> 21\u001b[0m wavefunctions, probability_densitys \u001b[38;5;241m=\u001b[39m \u001b[43mqho_analytical_e_vectorsoriginal\u001b[49m\u001b[43m(\u001b[49m\u001b[43mx\u001b[49m\u001b[43m,\u001b[49m\u001b[43m \u001b[49m\u001b[38;5;241;43m152\u001b[39;49m\u001b[43m)\u001b[49m\n",
      "Cell \u001b[1;32mIn[45], line 10\u001b[0m, in \u001b[0;36mqho_analytical_e_vectorsoriginal\u001b[1;34m(x, max_n, min_n)\u001b[0m\n\u001b[0;32m      7\u001b[0m probability_densitys \u001b[38;5;241m=\u001b[39m []\n\u001b[0;32m      9\u001b[0m \u001b[38;5;28;01mfor\u001b[39;00m n \u001b[38;5;129;01min\u001b[39;00m \u001b[38;5;28mrange\u001b[39m(min_n, max_n):\n\u001b[1;32m---> 10\u001b[0m     prefactor \u001b[38;5;241m=\u001b[39m (\u001b[38;5;241m1\u001b[39m \u001b[38;5;241m/\u001b[39m np\u001b[38;5;241m.\u001b[39msqrt(\u001b[38;5;241;43m2\u001b[39;49m\u001b[38;5;241;43m*\u001b[39;49m\u001b[38;5;241;43m*\u001b[39;49m\u001b[43mn\u001b[49m\u001b[43m \u001b[49m\u001b[38;5;241;43m*\u001b[39;49m\u001b[43m \u001b[49m\u001b[43mnp\u001b[49m\u001b[38;5;241;43m.\u001b[39;49m\u001b[43mmath\u001b[49m\u001b[38;5;241;43m.\u001b[39;49m\u001b[43mfactorial\u001b[49m\u001b[43m(\u001b[49m\u001b[43mn\u001b[49m\u001b[43m)\u001b[49m\u001b[43m \u001b[49m\u001b[38;5;241;43m*\u001b[39;49m\u001b[43m \u001b[49m\u001b[43mnp\u001b[49m\u001b[38;5;241;43m.\u001b[39;49m\u001b[43msqrt\u001b[49m\u001b[43m(\u001b[49m\u001b[43mnp\u001b[49m\u001b[38;5;241;43m.\u001b[39;49m\u001b[43mpi\u001b[49m\u001b[43m)\u001b[49m))\n\u001b[0;32m     11\u001b[0m     \u001b[38;5;66;03m#prefactor = (1 / np.sqrt(2**n * np.math.factorial(n) * np.sqrt(np.pi)))\u001b[39;00m\n\u001b[0;32m     12\u001b[0m     hermite \u001b[38;5;241m=\u001b[39m np\u001b[38;5;241m.\u001b[39mpolynomial\u001b[38;5;241m.\u001b[39mhermite\u001b[38;5;241m.\u001b[39mHermite([\u001b[38;5;241m0\u001b[39m]\u001b[38;5;241m*\u001b[39mn \u001b[38;5;241m+\u001b[39m [\u001b[38;5;241m1\u001b[39m])(x)  \u001b[38;5;66;03m# Calculate the Hermite polynomial of order n\u001b[39;00m\n",
      "\u001b[1;31mOverflowError\u001b[0m: int too large to convert to float"
     ]
    }
   ],
   "source": [
    "import numpy as np\n",
    "from mpmath import factorial\n",
    "\n",
    "def qho_analytical_e_vectorsoriginal(x, max_n, min_n=0):\n",
    "\n",
    "    wavefunctions = []\n",
    "    probability_densitys = []\n",
    "\n",
    "    for n in range(min_n, max_n):\n",
    "        prefactor = (1 / np.sqrt(2**n * np.math.factorial(n) * np.sqrt(np.pi)))\n",
    "        #prefactor = (1 / np.sqrt(2**n * np.math.factorial(n) * np.sqrt(np.pi)))\n",
    "        hermite = np.polynomial.hermite.Hermite([0]*n + [1])(x)  # Calculate the Hermite polynomial of order n\n",
    "        gaussian = np.exp(-x**2 / 2)  # Gaussian function\n",
    "        term = prefactor * hermite * gaussian  # Multiply Hermite polynomial by Gaussian\n",
    "        wavefunctions.append(term)\n",
    "        probability_densitys.append(term**2)\n",
    "\n",
    "    return wavefunctions, probability_densitys\n",
    "\n",
    "x = np.linspace(-5, 5, 1000)\n",
    "wavefunctions, probability_densitys = qho_analytical_e_vectorsoriginal(x, 151)"
   ]
  },
  {
   "cell_type": "code",
   "execution_count": 32,
   "metadata": {},
   "outputs": [
    {
     "name": "stdout",
     "output_type": "stream",
     "text": [
      "207.67727990000276\n",
      "6.600091699976474\n"
     ]
    }
   ],
   "source": [
    "# test speed of both functions using timeit\n",
    "import timeit\n",
    "\n",
    "print(timeit.timeit('qho_analytical_e_vectors1(x, 120)', globals=globals(), number=1))\n",
    "\n",
    "print(timeit.timeit('qho_analytical_e_vectors2(x, 120)', globals=globals(), number=1))\n",
    "\n",
    "print(timeit.timeit('qho_analytical_e_vectors3(x, 120)', globals=globals(), number=1))\n",
    "\n",
    "print(timeit.timeit('qho_analytical_e_vectorsoriginal(x, 120)', globals=globals(), number=1))"
   ]
  },
  {
   "cell_type": "code",
   "execution_count": 36,
   "metadata": {},
   "outputs": [],
   "source": [
    "# perform allclose closure test on both functions\n",
    "wavefunctions_original, probability_densitys_original = qho_analytical_e_vectorsoriginal(x, 120)\n",
    "wavefunctions1, probability_densitys1 = qho_analytical_e_vectors1(x, 120)\n",
    "wavefunctions2, probability_densitys2 = qho_analytical_e_vectors2(x, 120)\n",
    "wavefunctions3, probability_densitys3 = qho_analytical_e_vectors3(x, 120)\n",
    "\n",
    "assert np.allclose(wavefunctions1, wavefunctions2, wavefunctions3, wavefunctions_original)\n",
    "assert np.allclose(probability_densitys1, probability_densitys2, probability_densitys3, probability_densitys_original)\n"
   ]
  },
  {
   "cell_type": "markdown",
   "metadata": {},
   "source": []
  }
 ],
 "metadata": {
  "kernelspec": {
   "display_name": "Python 3",
   "language": "python",
   "name": "python3"
  },
  "language_info": {
   "codemirror_mode": {
    "name": "ipython",
    "version": 3
   },
   "file_extension": ".py",
   "mimetype": "text/x-python",
   "name": "python",
   "nbconvert_exporter": "python",
   "pygments_lexer": "ipython3",
   "version": "3.10.9"
  }
 },
 "nbformat": 4,
 "nbformat_minor": 2
}
